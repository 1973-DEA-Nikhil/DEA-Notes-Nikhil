{
 "cells": [
  {
   "cell_type": "code",
   "execution_count": null,
   "id": "113be967-e18e-4ae7-ab4e-6abe58fa3256",
   "metadata": {},
   "outputs": [],
   "source": [
    "import logging\n",
    "from pyspark.sql import SparkSession"
   ]
  },
  {
   "cell_type": "code",
   "execution_count": null,
   "id": "0bd6f750-3e61-4593-91ba-8931e929dbef",
   "metadata": {},
   "outputs": [],
   "source": [
    "# Create SparkSession\n",
    "spark = SparkSession.builder\\\n",
    "             .master(\"local[1]\")\\\n",
    "             .appName(\"spark\")\\\n",
    "             .getOrCreate()"
   ]
  },
  {
   "cell_type": "code",
   "execution_count": null,
   "id": "75454a11-a94d-4702-8a4f-44b730bd1a3b",
   "metadata": {},
   "outputs": [],
   "source": [
    "# Let's load the data first\n",
    "df_budgets = spark.read. \\\n",
    "                option(\"multiline\",\n",
    "                \"true\").json('datasets/json/department_budgets.json')"
   ]
  },
  {
   "cell_type": "code",
   "execution_count": null,
   "id": "ba4f1ec8-595a-45f6-9be6-fca01de762cc",
   "metadata": {},
   "outputs": [],
   "source": [
    "# Show schema\n",
    "df_budgets.printSchema()"
   ]
  },
  {
   "cell_type": "code",
   "execution_count": null,
   "id": "1dfc68f7-2349-4165-89ea-a0a8e92cc308",
   "metadata": {},
   "outputs": [],
   "source": [
    "# We can still query the data, using Json paths: \n",
    "df_budgets.select('offices').where('department_id == 1').show(truncate=False)"
   ]
  },
  {
   "cell_type": "code",
   "execution_count": null,
   "id": "971c3422-f4ae-4577-bf80-2a04e9d65928",
   "metadata": {},
   "outputs": [],
   "source": []
  },
  {
   "cell_type": "markdown",
   "id": "8f54d502-d7ac-4d37-a4a0-b86b1297c0d8",
   "metadata": {},
   "source": [
    "## Flattening JSON into Columnar format is normally easier, cleaner and more scalable. \n",
    "- Suggestion: always test and benchmark performance, to compare Json Paths access vs. flattening"
   ]
  },
  {
   "cell_type": "code",
   "execution_count": null,
   "id": "a17fa353-fbf3-4b7f-87ac-8bff80d00ddf",
   "metadata": {},
   "outputs": [],
   "source": [
    "# Spark function to flatten nested structs. Function adapted from GitHub: https://bit.ly/43ZegOL Spark dataframe with semi-structured types, \n",
    "# such as StructType or ArrayType return Spark dataframe\n",
    "def flatten_dataframe(df):\n",
    "    try:\n",
    "        # compute Complex Fields (Lists and Structs) in Schema   \n",
    "        complex_fields = dict([(field.name, field.dataType)\n",
    "                                    for field in df.schema.fields\n",
    "                                    if type(field.dataType) == ArrayType or  type(field.dataType) == StructType])\n",
    "            \n",
    "        while len(complex_fields)!=0:\n",
    "            col_name=list(complex_fields.keys())[0]\n",
    "            \n",
    "            # if StructType then convert all sub element to columns.\n",
    "            # i.e. flatten structs\n",
    "            if (type(complex_fields[col_name]) == StructType):\n",
    "                expanded = [col(col_name+'.'+k).alias(col_name+'_'+k) for k in [ n.name for n in  complex_fields[col_name]]]\n",
    "                df=df.select(\"*\", *expanded).drop(col_name)\n",
    "            \n",
    "            # if ArrayType then add the Array Elements as Rows using the explode function\n",
    "            # i.e. explode Arrays\n",
    "            elif (type(complex_fields[col_name]) == ArrayType):    \n",
    "                df=df.withColumn(col_name, explode_outer(col_name))\n",
    "            \n",
    "            # recompute remaining Complex Fields in Schema       \n",
    "            complex_fields = dict([(field.name, field.dataType)\n",
    "                                    for field in df.schema.fields\n",
    "                                    if type(field.dataType) == ArrayType or  type(field.dataType) == StructType])\n",
    "        return df\n",
    "    \n",
    "    except Exception as e:\n",
    "        logging.error('Error while flattening JSON data: {}'.format(e))"
   ]
  },
  {
   "cell_type": "code",
   "execution_count": null,
   "id": "03759e13-f1dc-4301-8428-8b9951164071",
   "metadata": {},
   "outputs": [],
   "source": [
    "# Let's now flatten the data.\n",
    "df_budgets_flat = flatten_dataframe(df_budgets) "
   ]
  },
  {
   "cell_type": "code",
   "execution_count": null,
   "id": "5a222827-215f-4689-95f9-2448787a26e5",
   "metadata": {},
   "outputs": [],
   "source": [
    "# Show sample\n",
    "df_budgets_flat.show()"
   ]
  },
  {
   "cell_type": "code",
   "execution_count": null,
   "id": "31b07f95-d20f-4148-8599-445458b0ec60",
   "metadata": {},
   "outputs": [],
   "source": [
    "# New flatten schema\n",
    "df_budgets_flat.printSchema()"
   ]
  },
  {
   "cell_type": "code",
   "execution_count": null,
   "id": "e7e93ede-896f-43c2-9fd1-17716c8b2234",
   "metadata": {},
   "outputs": [],
   "source": [
    "# Same process: register JSON DF as Temporary View\n",
    "df_budgets_flat.createOrReplaceTempView('budgets_flat')"
   ]
  },
  {
   "cell_type": "code",
   "execution_count": null,
   "id": "65a3388d-550a-461f-941f-39d94e057c26",
   "metadata": {},
   "outputs": [],
   "source": []
  },
  {
   "cell_type": "code",
   "execution_count": null,
   "id": "6981aa8a-5bd3-4b18-9795-862fb86657c6",
   "metadata": {},
   "outputs": [],
   "source": [
    "spark.sql('''\n",
    "          select * from budgets_flat)\n",
    "          ''').show(n=50)"
   ]
  },
  {
   "cell_type": "code",
   "execution_count": null,
   "id": "fe91c6ac-966d-4868-b65f-f2bbfa3ea182",
   "metadata": {},
   "outputs": [],
   "source": []
  },
  {
   "cell_type": "code",
   "execution_count": null,
   "id": "848b88cd-e9f4-45a5-9b68-7ed43018e6f8",
   "metadata": {},
   "outputs": [],
   "source": []
  },
  {
   "cell_type": "code",
   "execution_count": null,
   "id": "609c9da8-f40d-4ad4-b4c6-9d3440edb0fc",
   "metadata": {},
   "outputs": [],
   "source": []
  },
  {
   "cell_type": "code",
   "execution_count": null,
   "id": "12cb7670-3591-4906-a080-82093d7a1560",
   "metadata": {},
   "outputs": [],
   "source": []
  },
  {
   "cell_type": "code",
   "execution_count": null,
   "id": "96391350-3a13-4b82-bcff-0046e75d9edf",
   "metadata": {},
   "outputs": [],
   "source": []
  },
  {
   "cell_type": "code",
   "execution_count": null,
   "id": "58713f09-116d-45af-be2a-cba578ad8c1e",
   "metadata": {},
   "outputs": [],
   "source": []
  },
  {
   "cell_type": "code",
   "execution_count": null,
   "id": "c6578590-7642-434d-93c6-32e2e9795de4",
   "metadata": {},
   "outputs": [],
   "source": []
  },
  {
   "cell_type": "code",
   "execution_count": null,
   "id": "3d627fb0-2fdd-4cc4-be2a-e1329ae865d0",
   "metadata": {},
   "outputs": [],
   "source": []
  },
  {
   "cell_type": "code",
   "execution_count": null,
   "id": "f0fdffba-a80b-489d-ade0-30c2e46482d3",
   "metadata": {},
   "outputs": [],
   "source": []
  },
  {
   "cell_type": "code",
   "execution_count": null,
   "id": "f28798f0-f203-46aa-a298-6abd31884ac1",
   "metadata": {},
   "outputs": [],
   "source": []
  },
  {
   "cell_type": "code",
   "execution_count": null,
   "id": "e7a055d2-d407-4a13-b795-d650ba98a342",
   "metadata": {},
   "outputs": [],
   "source": []
  },
  {
   "cell_type": "code",
   "execution_count": null,
   "id": "9bc48290-76b1-45e2-8ee8-32ddbb6a929e",
   "metadata": {},
   "outputs": [],
   "source": []
  },
  {
   "cell_type": "code",
   "execution_count": null,
   "id": "d5375c19-d054-45d0-9985-c5fa328651c5",
   "metadata": {},
   "outputs": [],
   "source": []
  },
  {
   "cell_type": "code",
   "execution_count": null,
   "id": "be61c05d-0283-49a9-a1eb-0b6a75901aa5",
   "metadata": {},
   "outputs": [],
   "source": []
  },
  {
   "cell_type": "code",
   "execution_count": null,
   "id": "99710d22-f2b4-48d4-a0a2-fabdcb12685e",
   "metadata": {},
   "outputs": [],
   "source": []
  },
  {
   "cell_type": "code",
   "execution_count": null,
   "id": "395a6c58-a331-4eb2-8127-a66990c71fce",
   "metadata": {},
   "outputs": [],
   "source": []
  },
  {
   "cell_type": "code",
   "execution_count": null,
   "id": "8d6ed514-9728-43bd-b1fc-39df39599ee0",
   "metadata": {},
   "outputs": [],
   "source": []
  },
  {
   "cell_type": "code",
   "execution_count": null,
   "id": "02194b15-1d53-4bd8-8b81-8d205601dbaf",
   "metadata": {},
   "outputs": [],
   "source": []
  },
  {
   "cell_type": "code",
   "execution_count": null,
   "id": "a7b59993-ce24-4613-a53d-0b25f81a2730",
   "metadata": {},
   "outputs": [],
   "source": []
  },
  {
   "cell_type": "code",
   "execution_count": null,
   "id": "b57c8db1-14ae-4a60-8f1b-37c259c38357",
   "metadata": {},
   "outputs": [],
   "source": []
  },
  {
   "cell_type": "code",
   "execution_count": null,
   "id": "b412c21d-761e-45f1-9f22-a5b1bcf70a67",
   "metadata": {},
   "outputs": [],
   "source": []
  },
  {
   "cell_type": "code",
   "execution_count": null,
   "id": "015bd63d-8588-4136-af95-27ec5c143929",
   "metadata": {},
   "outputs": [],
   "source": []
  },
  {
   "cell_type": "code",
   "execution_count": null,
   "id": "e9497bcc-d34b-4b29-8d71-5e73ea8349be",
   "metadata": {},
   "outputs": [],
   "source": []
  },
  {
   "cell_type": "code",
   "execution_count": null,
   "id": "48672abc-c053-4c2f-9aee-3dc38ed33f9f",
   "metadata": {},
   "outputs": [],
   "source": []
  },
  {
   "cell_type": "code",
   "execution_count": null,
   "id": "8bb93d3b-ba71-46c8-83a5-43eec7d63a5b",
   "metadata": {},
   "outputs": [],
   "source": []
  },
  {
   "cell_type": "code",
   "execution_count": null,
   "id": "9a750619-bd05-4531-9c5c-5faa774d0ee6",
   "metadata": {},
   "outputs": [],
   "source": []
  },
  {
   "cell_type": "code",
   "execution_count": null,
   "id": "97e00fcf-4af1-4b6b-bddb-5119d3f1b3e4",
   "metadata": {},
   "outputs": [],
   "source": []
  },
  {
   "cell_type": "code",
   "execution_count": null,
   "id": "5f41eab2-aa6d-4c08-9f99-bbed0399cb0a",
   "metadata": {},
   "outputs": [],
   "source": []
  },
  {
   "cell_type": "code",
   "execution_count": null,
   "id": "d7d6fdd3-a91e-4981-8919-7acc8bb8a226",
   "metadata": {},
   "outputs": [],
   "source": []
  },
  {
   "cell_type": "code",
   "execution_count": null,
   "id": "f43524d0-82f1-4445-bbc3-3e6b40f2245b",
   "metadata": {},
   "outputs": [],
   "source": []
  },
  {
   "cell_type": "code",
   "execution_count": null,
   "id": "a60d9f93-2371-45e3-9975-2e61ed04bfd7",
   "metadata": {},
   "outputs": [],
   "source": []
  },
  {
   "cell_type": "code",
   "execution_count": null,
   "id": "3c96a3a1-2660-44b1-8949-e44199b88dc5",
   "metadata": {},
   "outputs": [],
   "source": []
  },
  {
   "cell_type": "code",
   "execution_count": null,
   "id": "9b8f5700-bba0-4f2c-b655-83331af8fc60",
   "metadata": {},
   "outputs": [],
   "source": []
  },
  {
   "cell_type": "code",
   "execution_count": null,
   "id": "305d626b-dc47-45fc-a852-bb1fb5d419c3",
   "metadata": {},
   "outputs": [],
   "source": []
  },
  {
   "cell_type": "code",
   "execution_count": null,
   "id": "87c28545-9848-4c7f-b8fa-5175027aaa78",
   "metadata": {},
   "outputs": [],
   "source": []
  },
  {
   "cell_type": "code",
   "execution_count": null,
   "id": "308bb40f-aa33-450b-8cdc-dfc7fde6fa75",
   "metadata": {},
   "outputs": [],
   "source": []
  },
  {
   "cell_type": "code",
   "execution_count": null,
   "id": "389bc36e-193e-43f3-b41b-2fd2b1e28a4b",
   "metadata": {},
   "outputs": [],
   "source": []
  },
  {
   "cell_type": "code",
   "execution_count": null,
   "id": "b06f8947-4061-4891-bc89-5d7126230dc3",
   "metadata": {},
   "outputs": [],
   "source": []
  },
  {
   "cell_type": "code",
   "execution_count": null,
   "id": "a866273b-5b2d-4817-8f25-d6e298e69707",
   "metadata": {},
   "outputs": [],
   "source": []
  },
  {
   "cell_type": "code",
   "execution_count": null,
   "id": "cffc7ff2-4c44-40f9-b9c6-06afea98f3c8",
   "metadata": {},
   "outputs": [],
   "source": []
  },
  {
   "cell_type": "code",
   "execution_count": null,
   "id": "7974c808-dfc7-499b-94ed-c0c206f1ebfa",
   "metadata": {},
   "outputs": [],
   "source": []
  },
  {
   "cell_type": "code",
   "execution_count": null,
   "id": "34ea767f-1aa5-431e-85c9-0cd3047397c9",
   "metadata": {},
   "outputs": [],
   "source": []
  },
  {
   "cell_type": "code",
   "execution_count": null,
   "id": "2c2e2e58-3ff4-4ff5-9dda-006bd16e943c",
   "metadata": {},
   "outputs": [],
   "source": []
  },
  {
   "cell_type": "code",
   "execution_count": null,
   "id": "a2882079-db07-4a3f-9f1d-eb2e269eb894",
   "metadata": {},
   "outputs": [],
   "source": []
  },
  {
   "cell_type": "code",
   "execution_count": null,
   "id": "6ccc4150-577e-4217-8e57-4ca932d23957",
   "metadata": {},
   "outputs": [],
   "source": []
  },
  {
   "cell_type": "code",
   "execution_count": null,
   "id": "2bf56b95-7773-4a6b-ad18-708edd64f7c7",
   "metadata": {},
   "outputs": [],
   "source": []
  },
  {
   "cell_type": "code",
   "execution_count": null,
   "id": "566d3682-4f62-499e-8eb8-6c6591ed855c",
   "metadata": {},
   "outputs": [],
   "source": []
  },
  {
   "cell_type": "code",
   "execution_count": null,
   "id": "4d7a80cd-1071-4eeb-8dec-c886da70bc77",
   "metadata": {},
   "outputs": [],
   "source": []
  },
  {
   "cell_type": "code",
   "execution_count": null,
   "id": "f026de95-8a23-4915-be0b-0bd782db191e",
   "metadata": {},
   "outputs": [],
   "source": []
  }
 ],
 "metadata": {
  "kernelspec": {
   "display_name": "PySpark 3.3.1",
   "language": "python",
   "name": "pyspark3.3.1"
  },
  "language_info": {
   "codemirror_mode": {
    "name": "ipython",
    "version": 3
   },
   "file_extension": ".py",
   "mimetype": "text/x-python",
   "name": "python",
   "nbconvert_exporter": "python",
   "pygments_lexer": "ipython3",
   "version": "3.10.1"
  }
 },
 "nbformat": 4,
 "nbformat_minor": 5
}
