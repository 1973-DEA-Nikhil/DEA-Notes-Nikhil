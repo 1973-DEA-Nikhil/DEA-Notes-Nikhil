{
 "cells": [
  {
   "cell_type": "markdown",
   "id": "1d2e7de1-d653-49cd-8a36-54ce8bb3fcda",
   "metadata": {},
   "source": [
    "A DataFrame in Spark is a distributed collection of data organized into named columns. It is similar to a table in a relational database but is immutable (i.e., once created, it cannot be modified)."
   ]
  },
  {
   "cell_type": "markdown",
   "id": "614aa160-7b7d-40e8-be49-eef538188663",
   "metadata": {},
   "source": [
    "## Tempview\n",
    "createOrReplaceTempView` is a method in Apache Spark that allows you to create a temporary view from a DataFrame. This view can then be queried using SQL syntax within the same Spark session."
   ]
  },
  {
   "cell_type": "code",
   "execution_count": null,
   "id": "30cde8b4-0f12-4f2b-8e80-734ccee730ee",
   "metadata": {},
   "outputs": [],
   "source": [
    "raw_data.createOrReplaceTempView(\"disney_shows_view\")"
   ]
  },
  {
   "cell_type": "code",
   "execution_count": null,
   "id": "e13d916f-9c0b-4a9b-a531-375903bf28ab",
   "metadata": {},
   "outputs": [],
   "source": [
    "spark.sql('''SELECT title,\n",
    "year,\n",
    "imdb_rating,\n",
    "actors\n",
    "FROM disney_shows_view\n",
    "limit 10''').show()\n"
   ]
  },
  {
   "cell_type": "code",
   "execution_count": null,
   "id": "8d6c216d-4b28-4122-831a-6b4320268471",
   "metadata": {},
   "outputs": [],
   "source": [
    "spark.sql('''SELECT title,\n",
    "year,\n",
    "imdb_rating,\n",
    "actors,\n",
    "genre\n",
    "FROM disney_shows_view\n",
    "WHERE genre LIKE '%Comedy%'\n",
    "ORDER BY imdb_rating DESC\n",
    "limit 10''').show()"
   ]
  },
  {
   "cell_type": "code",
   "execution_count": null,
   "id": "59027eeb-7f7e-41a5-95be-4695a91b761f",
   "metadata": {},
   "outputs": [],
   "source": [
    "# 1.  Write a query to get the average runtime of the movies\n",
    "# 2. get the top 5 movies released in 2015\n",
    "# 3. Provide the names of countries and movies they \n",
    "# have produced.\n",
    "# 4. Examine the relationship between genre and runtime\n",
    "# 5. Most common language "
   ]
  },
  {
   "cell_type": "code",
   "execution_count": null,
   "id": "9590fafb-358f-4d81-a2b6-476fc9b810ab",
   "metadata": {},
   "outputs": [],
   "source": [
    "raw_data.createOrReplaceTempView(\"disney_shows_view\")"
   ]
  },
  {
   "cell_type": "code",
   "execution_count": null,
   "id": "1ab09b30-0f4a-4798-ab70-0cb3fa654176",
   "metadata": {},
   "outputs": [],
   "source": [
    "df_comedy = spark.sql('''SELECT title,\n",
    "year,\n",
    "imdb_rating,\n",
    "actors,\n",
    "genre\n",
    "FROM disney_shows_view\n",
    "WHERE genre LIKE '%Comedy%'\n",
    "ORDER BY imdb_rating DESC''')"
   ]
  },
  {
   "cell_type": "code",
   "execution_count": null,
   "id": "3bc8d426-5e9c-4e7b-aacd-67489d29acf1",
   "metadata": {},
   "outputs": [],
   "source": [
    "df_comedy.write \\\n",
    "    .mode('overwrite') \\\n",
    "    .option(\"path\", 'df_comedy') \\\n",
    "    .saveAsTable('comedy_shows')"
   ]
  },
  {
   "cell_type": "code",
   "execution_count": null,
   "id": "cc3e3d4f-4e6f-4004-9c45-4c5f362be63e",
   "metadata": {},
   "outputs": [],
   "source": []
  },
  {
   "cell_type": "code",
   "execution_count": null,
   "id": "c7cd39ec-819e-4a76-ac30-f20cd09f1eb3",
   "metadata": {},
   "outputs": [],
   "source": []
  },
  {
   "cell_type": "code",
   "execution_count": null,
   "id": "ca56291b-23d6-4893-9c49-29835dd7cbe5",
   "metadata": {},
   "outputs": [],
   "source": []
  },
  {
   "cell_type": "code",
   "execution_count": null,
   "id": "2db8200b-cb2b-40f8-8c3d-631ff8168f2f",
   "metadata": {},
   "outputs": [],
   "source": []
  },
  {
   "cell_type": "code",
   "execution_count": null,
   "id": "27f51f87-60ba-45eb-bce2-2b620fb46297",
   "metadata": {},
   "outputs": [],
   "source": []
  },
  {
   "cell_type": "code",
   "execution_count": null,
   "id": "7bf3c7b3-eb7a-4721-8478-891b9dbc8b22",
   "metadata": {},
   "outputs": [],
   "source": []
  },
  {
   "cell_type": "code",
   "execution_count": 1,
   "id": "20cc59a6-c140-43b8-bc97-3a0ac5276c4d",
   "metadata": {},
   "outputs": [],
   "source": [
    "from pyspark.sql import SparkSession\n",
    "ss = SparkSession \\\n",
    "    .builder \\\n",
    "    .appName(\"DF_Analysis\") \\\n",
    "    .getOrCreate()"
   ]
  },
  {
   "cell_type": "code",
   "execution_count": null,
   "id": "9c570350-e7d6-4db9-b9da-82c735bd8853",
   "metadata": {},
   "outputs": [],
   "source": []
  },
  {
   "cell_type": "code",
   "execution_count": 2,
   "id": "7ebe6420-8d28-4e09-ba30-4071a7fe8fe3",
   "metadata": {},
   "outputs": [],
   "source": [
    "disney_raw = ss.read \\\n",
    "    .format(\"csv\") \\\n",
    "    .option(\"header\", \"true\") \\\n",
    "    .option(\"inferSchema\", \"true\") \\\n",
    "    .option(\"multiline\", \"true\") \\\n",
    "    .option(\"quote\", \"\\\"\") \\\n",
    "    .option(\"escape\", \"\\\"\") \\\n",
    "    .load(\"disney_plus_shows.csv\")\n"
   ]
  },
  {
   "cell_type": "code",
   "execution_count": 3,
   "id": "6010eec6-d859-4303-9fc4-07bef72e59a3",
   "metadata": {},
   "outputs": [
    {
     "name": "stdout",
     "output_type": "stream",
     "text": [
      "root\n",
      " |-- imdb_id: string (nullable = true)\n",
      " |-- title: string (nullable = true)\n",
      " |-- plot: string (nullable = true)\n",
      " |-- type: string (nullable = true)\n",
      " |-- rated: string (nullable = true)\n",
      " |-- year: string (nullable = true)\n",
      " |-- released_at: string (nullable = true)\n",
      " |-- added_at: string (nullable = true)\n",
      " |-- runtime: string (nullable = true)\n",
      " |-- genre: string (nullable = true)\n",
      " |-- director: string (nullable = true)\n",
      " |-- writer: string (nullable = true)\n",
      " |-- actors: string (nullable = true)\n",
      " |-- language: string (nullable = true)\n",
      " |-- country: string (nullable = true)\n",
      " |-- awards: string (nullable = true)\n",
      " |-- metascore: string (nullable = true)\n",
      " |-- imdb_rating: string (nullable = true)\n",
      " |-- imdb_votes: string (nullable = true)\n",
      "\n"
     ]
    }
   ],
   "source": [
    "#1. How to print Schme\n",
    "disney_raw.printSchema()"
   ]
  },
  {
   "cell_type": "code",
   "execution_count": 4,
   "id": "0ea5a6f5-c354-4622-8404-775657a99926",
   "metadata": {},
   "outputs": [
    {
     "name": "stdout",
     "output_type": "stream",
     "text": [
      "-RECORD 0--------------------------------------------------------------------------------------------------\n",
      " imdb_id     | tt0147800                                                                                   \n",
      " title       | 10 Things I Hate About You                                                                  \n",
      " plot        | A pretty, popular teenager can't go out on a date until her ill-tempered older sister does. \n",
      " type        | movie                                                                                       \n",
      " rated       | PG-13                                                                                       \n",
      " year        | 1999                                                                                        \n",
      " released_at | 31 Mar 1999                                                                                 \n",
      " added_at    | November 12, 2019                                                                           \n",
      " runtime     | 97 min                                                                                      \n",
      " genre       | Comedy, Drama, Romance                                                                      \n",
      " director    | Gil Junger                                                                                  \n",
      " writer      | Karen McCullah, Kirsten Smith                                                               \n",
      " actors      | Heath Ledger, Julia Stiles, Joseph Gordon-Levitt, Larisa Oleynik                            \n",
      " language    | English, French                                                                             \n",
      " country     | USA                                                                                         \n",
      " awards      | 2 wins & 13 nominations.                                                                    \n",
      " metascore   | 70                                                                                          \n",
      " imdb_rating | 7.3                                                                                         \n",
      " imdb_votes  | 283,945                                                                                     \n",
      "only showing top 1 row\n",
      "\n"
     ]
    }
   ],
   "source": [
    "# 2. Displaying a first few rows\n",
    "disney_raw.show(1, truncate=False, vertical=True)"
   ]
  },
  {
   "cell_type": "code",
   "execution_count": 5,
   "id": "2b117ffd-ef2a-4ff6-89ee-c940c9c65339",
   "metadata": {},
   "outputs": [
    {
     "name": "stdout",
     "output_type": "stream",
     "text": [
      "+-------+---------+---------------+--------------------+-------+--------+------------------+-----------+---------------+-------+--------------------+--------------------+--------------------+--------------------+--------------------+--------------------+--------------------+------------------+------------------+------------------+\n",
      "|summary|  imdb_id|          title|                plot|   type|   rated|              year|released_at|       added_at|runtime|               genre|            director|              writer|              actors|            language|             country|              awards|         metascore|       imdb_rating|        imdb_votes|\n",
      "+-------+---------+---------------+--------------------+-------+--------+------------------+-----------+---------------+-------+--------------------+--------------------+--------------------+--------------------+--------------------+--------------------+--------------------+------------------+------------------+------------------+\n",
      "|  count|      894|            894|                 894|    894|     894|               894|        894|            992|    894|                 894|                 894|                 894|                 894|                 894|                 894|                 894|               894|               894|               894|\n",
      "|   mean|     null|           null|                null|   null|    null| 1994.323076923077|       null|           null|   null|                null|                null|                null|                null|                null|                null|                null| 62.06164383561644| 6.656427758816839| 347.2451361867704|\n",
      "| stddev|     null|           null|                null|   null|    null|24.130433648285116|       null|           null|   null|                null|                null|                null|                null|                null|                null|                null|15.776454944690588|1.0203516652049083|290.29838876105833|\n",
      "|    min|tt0019422|'Twas the Night|\"Doc McStuffins\" ...|episode|APPROVED|              1928|01 Apr 1965|  April 1, 2020|    1 h|Action, Adventure...|Aaron Blaise, Rob...|A.A. Milne (books...|'Weird Al' Yankov...|Brazilian Sign La...|           Argentina|       1 nomination.|                19|               1.5|         1,007,917|\n",
      "|    max|tt9822474|       Zootopia|follows a young b...| series| Unrated|             2020–|        N/A|October 1, 2019|    N/A|      Short, Fantasy|            Zhong Yu|Winston Hibler (s...|Émile Genest, Joh...|     Spanish, German|USA, UK, Australi...|Won 7 Primetime E...|               N/A|               N/A|               N/A|\n",
      "+-------+---------+---------------+--------------------+-------+--------+------------------+-----------+---------------+-------+--------------------+--------------------+--------------------+--------------------+--------------------+--------------------+--------------------+------------------+------------------+------------------+\n",
      "\n"
     ]
    }
   ],
   "source": [
    "disney_raw.describe().show()"
   ]
  },
  {
   "cell_type": "code",
   "execution_count": 6,
   "id": "6d016fa7-0875-475d-a9c0-f2941443797e",
   "metadata": {},
   "outputs": [],
   "source": [
    "#3. Basic Statistical Information\n",
    "df_summary = disney_raw.describe().toPandas()"
   ]
  },
  {
   "cell_type": "code",
   "execution_count": 7,
   "id": "712534f9-ca1a-4048-9eeb-dd248516dee1",
   "metadata": {},
   "outputs": [
    {
     "data": {
      "text/html": [
       "<div>\n",
       "<style scoped>\n",
       "    .dataframe tbody tr th:only-of-type {\n",
       "        vertical-align: middle;\n",
       "    }\n",
       "\n",
       "    .dataframe tbody tr th {\n",
       "        vertical-align: top;\n",
       "    }\n",
       "\n",
       "    .dataframe thead th {\n",
       "        text-align: right;\n",
       "    }\n",
       "</style>\n",
       "<table border=\"1\" class=\"dataframe\">\n",
       "  <thead>\n",
       "    <tr style=\"text-align: right;\">\n",
       "      <th></th>\n",
       "      <th>summary</th>\n",
       "      <th>imdb_id</th>\n",
       "      <th>title</th>\n",
       "      <th>plot</th>\n",
       "      <th>type</th>\n",
       "      <th>rated</th>\n",
       "      <th>year</th>\n",
       "      <th>released_at</th>\n",
       "      <th>added_at</th>\n",
       "      <th>runtime</th>\n",
       "      <th>genre</th>\n",
       "      <th>director</th>\n",
       "      <th>writer</th>\n",
       "      <th>actors</th>\n",
       "      <th>language</th>\n",
       "      <th>country</th>\n",
       "      <th>awards</th>\n",
       "      <th>metascore</th>\n",
       "      <th>imdb_rating</th>\n",
       "      <th>imdb_votes</th>\n",
       "    </tr>\n",
       "  </thead>\n",
       "  <tbody>\n",
       "    <tr>\n",
       "      <th>0</th>\n",
       "      <td>count</td>\n",
       "      <td>894</td>\n",
       "      <td>894</td>\n",
       "      <td>894</td>\n",
       "      <td>894</td>\n",
       "      <td>894</td>\n",
       "      <td>894</td>\n",
       "      <td>894</td>\n",
       "      <td>992</td>\n",
       "      <td>894</td>\n",
       "      <td>894</td>\n",
       "      <td>894</td>\n",
       "      <td>894</td>\n",
       "      <td>894</td>\n",
       "      <td>894</td>\n",
       "      <td>894</td>\n",
       "      <td>894</td>\n",
       "      <td>894</td>\n",
       "      <td>894</td>\n",
       "      <td>894</td>\n",
       "    </tr>\n",
       "    <tr>\n",
       "      <th>1</th>\n",
       "      <td>mean</td>\n",
       "      <td>None</td>\n",
       "      <td>None</td>\n",
       "      <td>None</td>\n",
       "      <td>None</td>\n",
       "      <td>None</td>\n",
       "      <td>1994.323076923077</td>\n",
       "      <td>None</td>\n",
       "      <td>None</td>\n",
       "      <td>None</td>\n",
       "      <td>None</td>\n",
       "      <td>None</td>\n",
       "      <td>None</td>\n",
       "      <td>None</td>\n",
       "      <td>None</td>\n",
       "      <td>None</td>\n",
       "      <td>None</td>\n",
       "      <td>62.06164383561644</td>\n",
       "      <td>6.656427758816839</td>\n",
       "      <td>347.2451361867704</td>\n",
       "    </tr>\n",
       "    <tr>\n",
       "      <th>2</th>\n",
       "      <td>stddev</td>\n",
       "      <td>None</td>\n",
       "      <td>None</td>\n",
       "      <td>None</td>\n",
       "      <td>None</td>\n",
       "      <td>None</td>\n",
       "      <td>24.130433648285116</td>\n",
       "      <td>None</td>\n",
       "      <td>None</td>\n",
       "      <td>None</td>\n",
       "      <td>None</td>\n",
       "      <td>None</td>\n",
       "      <td>None</td>\n",
       "      <td>None</td>\n",
       "      <td>None</td>\n",
       "      <td>None</td>\n",
       "      <td>None</td>\n",
       "      <td>15.776454944690588</td>\n",
       "      <td>1.0203516652049083</td>\n",
       "      <td>290.29838876105833</td>\n",
       "    </tr>\n",
       "    <tr>\n",
       "      <th>3</th>\n",
       "      <td>min</td>\n",
       "      <td>tt0019422</td>\n",
       "      <td>'Twas the Night</td>\n",
       "      <td>\"Doc McStuffins\" is an imaginative animated se...</td>\n",
       "      <td>episode</td>\n",
       "      <td>APPROVED</td>\n",
       "      <td>1928</td>\n",
       "      <td>01 Apr 1965</td>\n",
       "      <td>April 1, 2020</td>\n",
       "      <td>1 h</td>\n",
       "      <td>Action, Adventure, Biography, Drama, Family</td>\n",
       "      <td>Aaron Blaise, Robert Walker</td>\n",
       "      <td>A.A. Milne (books), Larry Clemmons (story), Ra...</td>\n",
       "      <td>'Weird Al' Yankovic, Sabrina Carpenter, Mekai ...</td>\n",
       "      <td>Brazilian Sign Language</td>\n",
       "      <td>Argentina</td>\n",
       "      <td>1 nomination.</td>\n",
       "      <td>19</td>\n",
       "      <td>1.5</td>\n",
       "      <td>1,007,917</td>\n",
       "    </tr>\n",
       "    <tr>\n",
       "      <th>4</th>\n",
       "      <td>max</td>\n",
       "      <td>tt9822474</td>\n",
       "      <td>Zootopia</td>\n",
       "      <td>follows a young boy named Makoto, who gains su...</td>\n",
       "      <td>series</td>\n",
       "      <td>Unrated</td>\n",
       "      <td>2020–</td>\n",
       "      <td>N/A</td>\n",
       "      <td>October 1, 2019</td>\n",
       "      <td>N/A</td>\n",
       "      <td>Short, Fantasy</td>\n",
       "      <td>Zhong Yu</td>\n",
       "      <td>Winston Hibler (story), Erdman Penner (story),...</td>\n",
       "      <td>Émile Genest, John Drainie, Tommy Tweed, Sandr...</td>\n",
       "      <td>Spanish, German</td>\n",
       "      <td>USA, UK, Australia, Canada</td>\n",
       "      <td>Won 7 Primetime Emmys. Another 23 wins &amp; 30 no...</td>\n",
       "      <td>N/A</td>\n",
       "      <td>N/A</td>\n",
       "      <td>N/A</td>\n",
       "    </tr>\n",
       "  </tbody>\n",
       "</table>\n",
       "</div>"
      ],
      "text/plain": [
       "  summary    imdb_id            title  \\\n",
       "0   count        894              894   \n",
       "1    mean       None             None   \n",
       "2  stddev       None             None   \n",
       "3     min  tt0019422  'Twas the Night   \n",
       "4     max  tt9822474         Zootopia   \n",
       "\n",
       "                                                plot     type     rated  \\\n",
       "0                                                894      894       894   \n",
       "1                                               None     None      None   \n",
       "2                                               None     None      None   \n",
       "3  \"Doc McStuffins\" is an imaginative animated se...  episode  APPROVED   \n",
       "4  follows a young boy named Makoto, who gains su...   series   Unrated   \n",
       "\n",
       "                 year  released_at         added_at runtime  \\\n",
       "0                 894          894              992     894   \n",
       "1   1994.323076923077         None             None    None   \n",
       "2  24.130433648285116         None             None    None   \n",
       "3                1928  01 Apr 1965    April 1, 2020     1 h   \n",
       "4               2020–          N/A  October 1, 2019     N/A   \n",
       "\n",
       "                                         genre                     director  \\\n",
       "0                                          894                          894   \n",
       "1                                         None                         None   \n",
       "2                                         None                         None   \n",
       "3  Action, Adventure, Biography, Drama, Family  Aaron Blaise, Robert Walker   \n",
       "4                               Short, Fantasy                     Zhong Yu   \n",
       "\n",
       "                                              writer  \\\n",
       "0                                                894   \n",
       "1                                               None   \n",
       "2                                               None   \n",
       "3  A.A. Milne (books), Larry Clemmons (story), Ra...   \n",
       "4  Winston Hibler (story), Erdman Penner (story),...   \n",
       "\n",
       "                                              actors                 language  \\\n",
       "0                                                894                      894   \n",
       "1                                               None                     None   \n",
       "2                                               None                     None   \n",
       "3  'Weird Al' Yankovic, Sabrina Carpenter, Mekai ...  Brazilian Sign Language   \n",
       "4  Émile Genest, John Drainie, Tommy Tweed, Sandr...          Spanish, German   \n",
       "\n",
       "                      country  \\\n",
       "0                         894   \n",
       "1                        None   \n",
       "2                        None   \n",
       "3                   Argentina   \n",
       "4  USA, UK, Australia, Canada   \n",
       "\n",
       "                                              awards           metascore  \\\n",
       "0                                                894                 894   \n",
       "1                                               None   62.06164383561644   \n",
       "2                                               None  15.776454944690588   \n",
       "3                                      1 nomination.                  19   \n",
       "4  Won 7 Primetime Emmys. Another 23 wins & 30 no...                 N/A   \n",
       "\n",
       "          imdb_rating          imdb_votes  \n",
       "0                 894                 894  \n",
       "1   6.656427758816839   347.2451361867704  \n",
       "2  1.0203516652049083  290.29838876105833  \n",
       "3                 1.5           1,007,917  \n",
       "4                 N/A                 N/A  "
      ]
     },
     "execution_count": 7,
     "metadata": {},
     "output_type": "execute_result"
    }
   ],
   "source": [
    "df_summary"
   ]
  },
  {
   "cell_type": "markdown",
   "id": "a2cd7d37-e252-4fcd-8c27-1c3636bcf54a",
   "metadata": {},
   "source": [
    "---"
   ]
  },
  {
   "cell_type": "markdown",
   "id": "2b7f4041-150a-4ae2-9604-9210ecffdd97",
   "metadata": {},
   "source": [
    "## Data Cleansing"
   ]
  },
  {
   "cell_type": "code",
   "execution_count": null,
   "id": "e6f0c647-814b-4014-92a3-c031333d20b0",
   "metadata": {},
   "outputs": [],
   "source": [
    "from pyspark.sql.functions import col, when\n",
    "\n",
    "# Convert year to integer and handle incorrect formats\n",
    "disney_raw = disney_raw.withColumn(\n",
    "    \"year\",\n",
    "    when(col(\"year\").rlike(\"^\\d{4}$\"), col(\"year\").cast(\"integer\"))\n",
    "    .otherwise(None)\n",
    ")\n",
    "\n",
    "# Convert 'released_at' to a date type, handling 'N/A' values\n",
    "disney_raw = disney_raw.withColumn(\n",
    "    \"released_at\",\n",
    "    when(col(\"released_at\").isNotNull() & ~col(\"released_at\").rlike(\"N/A\"), \n",
    "         col(\"released_at\").cast(\"date\"))\n",
    "    .otherwise(None)\n",
    ")\n"
   ]
  },
  {
   "cell_type": "code",
   "execution_count": null,
   "id": "7d5354ab-b7e3-41b4-972f-c46a7dbcc54b",
   "metadata": {},
   "outputs": [],
   "source": [
    "\n"
   ]
  },
  {
   "cell_type": "markdown",
   "id": "9673cafb-e7de-481a-8552-97d01739e6dd",
   "metadata": {},
   "source": [
    "---"
   ]
  },
  {
   "cell_type": "code",
   "execution_count": null,
   "id": "cd2210a7-90d2-484f-b890-12faeaee6412",
   "metadata": {},
   "outputs": [],
   "source": [
    "disney_raw.select((disney_raw.columns)[1:7]).last()"
   ]
  },
  {
   "cell_type": "code",
   "execution_count": null,
   "id": "f6408ad6-f56e-47ec-b467-ee50441026a8",
   "metadata": {},
   "outputs": [],
   "source": [
    "# 4. Selecting specific columns\n",
    "disney_raw.select(\"title\", \"year\", \"imdb_rating\").show(5,truncate=False)"
   ]
  },
  {
   "cell_type": "code",
   "execution_count": null,
   "id": "f6c12f90-d899-40fd-9a8d-991ac77916c8",
   "metadata": {},
   "outputs": [],
   "source": [
    "# 5. Filtering data\n",
    "disney_raw.select(\"title\", \"year\", \"imdb_rating\") \\\n",
    "          .filter(disney_raw.year > 2017).show(5)"
   ]
  },
  {
   "cell_type": "code",
   "execution_count": null,
   "id": "e9d4f644-f1b9-4e68-9e2c-43a96736205a",
   "metadata": {},
   "outputs": [],
   "source": [
    "# 6 Filter with multiple conditions\n",
    "disney_raw.select(\"title\", \"year\", \"imdb_rating\") \\\n",
    "          .filter((disney_raw.imdb_rating > 8.0) & (disney_raw.year > 2019)) \\\n",
    "          .show(5)"
   ]
  },
  {
   "cell_type": "code",
   "execution_count": null,
   "id": "20701fcd-cc0b-4b61-bca5-5d52d65045fa",
   "metadata": {},
   "outputs": [],
   "source": [
    "#7 Renaming cols\n",
    "df_renamed = disney_raw.withColumnRenamed(\"imdb_rating\", \"rating\")"
   ]
  },
  {
   "cell_type": "code",
   "execution_count": null,
   "id": "40b668a5-50e5-4dca-ac04-d4a68ddd7084",
   "metadata": {},
   "outputs": [],
   "source": [
    "#df_renamed.columns"
   ]
  },
  {
   "cell_type": "code",
   "execution_count": null,
   "id": "85f0f51c-8f86-4e42-a2c8-2daa80e14f62",
   "metadata": {},
   "outputs": [],
   "source": [
    "df_renamed.select(\"title\", \"year\", \"rating\") \\\n",
    "          .show(5)"
   ]
  },
  {
   "cell_type": "code",
   "execution_count": null,
   "id": "f508c485-8aa6-4aef-b183-f61cfea99de4",
   "metadata": {},
   "outputs": [],
   "source": [
    "# 8. Drop cols\n",
    "df_dropped_plot = df_renamed.drop(\"plot\")"
   ]
  },
  {
   "cell_type": "code",
   "execution_count": 8,
   "id": "073410a2-c1dc-4a58-a7e6-eb76a0850e89",
   "metadata": {},
   "outputs": [
    {
     "data": {
      "text/plain": [
       "19"
      ]
     },
     "execution_count": 8,
     "metadata": {},
     "output_type": "execute_result"
    }
   ],
   "source": [
    "len(disney_raw.columns)"
   ]
  },
  {
   "cell_type": "code",
   "execution_count": null,
   "id": "54f03753-cf08-40ce-92f0-5f2494044c27",
   "metadata": {},
   "outputs": [],
   "source": [
    "# 9 Drop Multiple cols\n",
    "df_dropped_2_cols = df_renamed.drop(\"plot\", \"rated\")"
   ]
  },
  {
   "cell_type": "code",
   "execution_count": null,
   "id": "9194eb59-6a11-4ffb-ab10-dac6b07880d8",
   "metadata": {},
   "outputs": [],
   "source": [
    "#10 Dropping Rows\n",
    "df_no_nulls = disney_raw.dropna()"
   ]
  },
  {
   "cell_type": "code",
   "execution_count": null,
   "id": "6dd6b563-e3ea-42d7-ae76-073aacf456af",
   "metadata": {},
   "outputs": [],
   "source": [
    "#11 Dropping Rows with nulls in specific cols\n",
    "df_cleaned = disney_raw. \\\n",
    "            dropna(subset=[\"title\", \"imdb_rating\"])"
   ]
  },
  {
   "cell_type": "code",
   "execution_count": null,
   "id": "24c98d7f-521f-4647-b27a-3d9154e1d51c",
   "metadata": {},
   "outputs": [],
   "source": [
    "# 12. Dropping based on a condition\n",
    "# filter()\n",
    "\n"
   ]
  },
  {
   "cell_type": "code",
   "execution_count": null,
   "id": "c7d73009-1bab-4a26-a80f-a2c8594c6b25",
   "metadata": {},
   "outputs": [],
   "source": [
    "#13 Drop duplicates\n",
    "df_cleaned = disney_raw.dropDuplicates()"
   ]
  },
  {
   "cell_type": "code",
   "execution_count": null,
   "id": "1c73a6e5-e1cc-43a4-9319-01f3a57cf12e",
   "metadata": {},
   "outputs": [],
   "source": [
    "#14 Dropping duplicates in specific cols\n",
    "df_cleaned = disney_raw \\\n",
    "            .disney_raw \\\n",
    "            .dropDuplicates([\"title\"])"
   ]
  },
  {
   "cell_type": "code",
   "execution_count": null,
   "id": "4e40cdcd-d018-4ece-86e2-83ce1b72fb2f",
   "metadata": {},
   "outputs": [],
   "source": [
    "# 15 Unique\n",
    "disney_raw.select(\"title\").distinct().count()\n"
   ]
  },
  {
   "cell_type": "code",
   "execution_count": null,
   "id": "e2b14809-473d-4419-8f87-c511290041dd",
   "metadata": {},
   "outputs": [],
   "source": [
    "# 16 "
   ]
  },
  {
   "cell_type": "code",
   "execution_count": null,
   "id": "e7b36adb-c4bf-4a39-bad3-3fb1a76c56b9",
   "metadata": {},
   "outputs": [],
   "source": []
  },
  {
   "cell_type": "code",
   "execution_count": null,
   "id": "4dc067d9-121b-4af6-a8d7-b96ff5452c87",
   "metadata": {},
   "outputs": [],
   "source": []
  },
  {
   "cell_type": "code",
   "execution_count": null,
   "id": "31642bf8-9c09-4e7a-a6a2-331912464266",
   "metadata": {},
   "outputs": [],
   "source": [
    "# 17 Average rating by Year\n",
    "disney_raw.groupBy(\"year\") \\\n",
    "    .agg({\"imdb_rating\" : \"avg\"}) \\\n",
    "    .orderBy(\"year\") \\\n",
    "    .show()\n"
   ]
  },
  {
   "cell_type": "code",
   "execution_count": null,
   "id": "a5ae8e62-658c-4622-81ed-99de645c66e2",
   "metadata": {},
   "outputs": [],
   "source": [
    "#15 Aggregation and Grouping\n",
    "from pyspark.sql import functions as F\n",
    "disney_raw.groupBy(\"genre\") \\\n",
    "    .count() \\\n",
    "    .orderBy(F.desc(\"count\")) \\\n",
    "    .show(10, truncate=False)\n"
   ]
  },
  {
   "cell_type": "code",
   "execution_count": 9,
   "id": "df10b1ca-e560-4aea-91ab-7b736db24446",
   "metadata": {},
   "outputs": [
    {
     "name": "stdout",
     "output_type": "stream",
     "text": [
      "+---------------------------------------------+-----+\n",
      "|genre                                        |count|\n",
      "+---------------------------------------------+-----+\n",
      "|Documentary                                  |53   |\n",
      "|Comedy, Family                               |27   |\n",
      "|Comedy, Drama, Family                        |19   |\n",
      "|Animation, Short, Comedy, Family             |17   |\n",
      "|Animation, Adventure, Comedy, Family, Fantasy|17   |\n",
      "+---------------------------------------------+-----+\n",
      "only showing top 5 rows\n",
      "\n"
     ]
    }
   ],
   "source": [
    "from pyspark.sql.functions import desc, col\n",
    "\n",
    "disney_raw.filter(col(\"genre\").isNotNull()) \\\n",
    "    .groupBy(\"genre\") \\\n",
    "    .count() \\\n",
    "    .orderBy(desc(\"count\")) \\\n",
    "    .show(5, truncate=False)\n"
   ]
  },
  {
   "cell_type": "code",
   "execution_count": null,
   "id": "049afda5-ef5b-4c04-914c-c674458ccf2e",
   "metadata": {},
   "outputs": [],
   "source": []
  },
  {
   "cell_type": "code",
   "execution_count": null,
   "id": "585b2c2a-e582-4e56-b347-9f817ac7992a",
   "metadata": {},
   "outputs": [],
   "source": [
    "# 20 Add new cols\n",
    "from pyspark.sql.functions import length\n",
    "df_added_col = disney_raw.withColumn(\"title_length\",\n",
    "                      length(disney_raw.title))"
   ]
  },
  {
   "cell_type": "code",
   "execution_count": null,
   "id": "b82aae31-8ff4-49f4-ae78-853ae5d37e7f",
   "metadata": {},
   "outputs": [],
   "source": [
    "df_added_col.select('title', 'title_length') \\\n",
    "            .show(5, truncate=False)"
   ]
  },
  {
   "cell_type": "code",
   "execution_count": null,
   "id": "fb976ff0-2018-43e6-b395-92265b865a6a",
   "metadata": {},
   "outputs": [],
   "source": []
  },
  {
   "cell_type": "code",
   "execution_count": null,
   "id": "4abea172-9a98-46a7-b118-f248c3e40059",
   "metadata": {},
   "outputs": [],
   "source": [
    "df = disney_raw"
   ]
  },
  {
   "cell_type": "code",
   "execution_count": null,
   "id": "60d1dd0f-7877-4633-a5fd-ee8e45e86b9e",
   "metadata": {},
   "outputs": [],
   "source": [
    "# Aggregate functions"
   ]
  },
  {
   "cell_type": "code",
   "execution_count": null,
   "id": "d4fc3f7e-d68b-4626-b89d-e78581989e06",
   "metadata": {},
   "outputs": [],
   "source": [
    "# 1. count()\n",
    "# to count the number of shows\n",
    "df.select(\"imdb_id\").count()"
   ]
  },
  {
   "cell_type": "code",
   "execution_count": null,
   "id": "2cddc5cc-4b4b-4e79-ad18-f2dcdb678d86",
   "metadata": {},
   "outputs": [],
   "source": [
    "df.printSchema()"
   ]
  },
  {
   "cell_type": "code",
   "execution_count": null,
   "id": "570b7941-5b72-4a1e-9f05-d2dd1f78d801",
   "metadata": {},
   "outputs": [],
   "source": []
  },
  {
   "cell_type": "code",
   "execution_count": null,
   "id": "2bc96ccd-ac6d-4e23-80c9-2b540e181812",
   "metadata": {},
   "outputs": [],
   "source": [
    "df.printSchema()"
   ]
  },
  {
   "cell_type": "code",
   "execution_count": null,
   "id": "39eb861e-5e14-42db-b04a-e89d6ba8e64a",
   "metadata": {},
   "outputs": [],
   "source": [
    "# change datatype of imdb_votes col to int\n",
    "df2 = disney_raw.withColumn(\"imdb_votes\",\n",
    "                      (disney_raw.imdb_votes).cast(\"int\") )"
   ]
  },
  {
   "cell_type": "code",
   "execution_count": null,
   "id": "b12fa369-d257-4f36-82b1-daf93aa26146",
   "metadata": {},
   "outputs": [],
   "source": [
    "df2.select(F.sum(\"imdb_votes\")).show()"
   ]
  },
  {
   "cell_type": "code",
   "execution_count": null,
   "id": "76923ee5-c05a-41de-9812-5cb22a13e8df",
   "metadata": {},
   "outputs": [],
   "source": [
    "# sum() : sum of a numerical column\n",
    "df2.select(\"imdb_votes\").distinct().show(4)\n"
   ]
  },
  {
   "cell_type": "code",
   "execution_count": null,
   "id": "84595b61-4f4e-4980-96b7-1e9c6f0ff1b6",
   "metadata": {},
   "outputs": [],
   "source": [
    "from pyspark.sql import functions  as F\n",
    "df2.select(F.max(\"imdb_votes\")).show()"
   ]
  },
  {
   "cell_type": "code",
   "execution_count": null,
   "id": "d640f19b-04a6-4ee2-a3e9-2ffb2f608157",
   "metadata": {},
   "outputs": [],
   "source": [
    "df2.select(F.min(\"imdb_votes\")).show()\n"
   ]
  },
  {
   "cell_type": "code",
   "execution_count": null,
   "id": "0697d088-4422-410c-abca-35ef3661faf4",
   "metadata": {},
   "outputs": [],
   "source": [
    "df2.groupBy(\"type\").count().show()\n"
   ]
  },
  {
   "cell_type": "code",
   "execution_count": null,
   "id": "80087eff-eca9-44a2-859c-15a3097db7ec",
   "metadata": {},
   "outputs": [],
   "source": [
    "# approx_count_distinct\n",
    "1. df2.select(F.approx_count_distinct(\"genre\")).show()"
   ]
  },
  {
   "cell_type": "code",
   "execution_count": null,
   "id": "b4302a6a-6cc0-4688-88ee-8b2766e6e46b",
   "metadata": {},
   "outputs": [],
   "source": [
    "# countDistinct : Uses a lot of memory compared to approx_count_distinct\n",
    "df2.select(F.countDistinct(\"genre\")).show()"
   ]
  },
  {
   "cell_type": "code",
   "execution_count": null,
   "id": "0d53745c-c987-48da-b986-db65447e34a6",
   "metadata": {},
   "outputs": [],
   "source": [
    "#2. approx_count_distinct\n",
    "df2.select(F.approx_count_distinct(\"columnName\",\n",
    "                                   float:relativeStandardDeviation)).show()\n",
    "\n",
    "df2.select(F.approx_count_distinct(\"genre\", 0.05)).show()"
   ]
  },
  {
   "cell_type": "code",
   "execution_count": null,
   "id": "10e36d67-f1d4-4608-8bc0-763b4ddd9b63",
   "metadata": {},
   "outputs": [],
   "source": [
    "# 3. avg\n",
    "df2.select(F.avg(\"imdb_rating\")).show()\n"
   ]
  },
  {
   "cell_type": "markdown",
   "id": "ebf5a8b7-30fb-4c67-9626-be92443acede",
   "metadata": {},
   "source": [
    " 4. collect_list(col)\n",
    "- returns a list of all values from the specified col, including  duplicates"
   ]
  },
  {
   "cell_type": "code",
   "execution_count": null,
   "id": "db39d4f1-8940-4467-860e-8f65323e9830",
   "metadata": {},
   "outputs": [],
   "source": [
    "title_list = df2.agg(F.collect_list(\"title\"))"
   ]
  },
  {
   "cell_type": "code",
   "execution_count": null,
   "id": "1e91e77a-4a02-4192-ad2c-ee5859aac3c9",
   "metadata": {},
   "outputs": [],
   "source": [
    "title_list.count()"
   ]
  },
  {
   "cell_type": "code",
   "execution_count": null,
   "id": "00ed7df8-f34e-4138-a35d-0ccf0a366208",
   "metadata": {},
   "outputs": [],
   "source": [
    "# 5. corr\n",
    "df2.select(F.corr(\"imdb_rating\", \"imdb_votes\")).show()"
   ]
  },
  {
   "cell_type": "code",
   "execution_count": null,
   "id": "ff8f655a-34c6-4958-957f-86a6e378bb00",
   "metadata": {},
   "outputs": [],
   "source": [
    "# covar_pop\n",
    "df2.select(F.covar_pop(\"imdb_rating\", \"imdb_votes\")).show()\n"
   ]
  },
  {
   "cell_type": "code",
   "execution_count": null,
   "id": "18304eb7-bec2-4021-b040-b0658d269f80",
   "metadata": {},
   "outputs": [],
   "source": [
    "# covar_samp\n",
    "df2.select(F.covar_samp(\"imdb_rating\", \"imdb_votes\")).show()\n"
   ]
  },
  {
   "cell_type": "code",
   "execution_count": null,
   "id": "20a4bd41-167e-42e1-8611-8c6a1e439d03",
   "metadata": {},
   "outputs": [],
   "source": [
    "# first: returns first non-null value of a column\n",
    "\n",
    "df2.select(F.first(\"imdb_rating\")).show()"
   ]
  },
  {
   "cell_type": "code",
   "execution_count": null,
   "id": "68f5f8f0-86b4-4289-a79b-178b60e84778",
   "metadata": {},
   "outputs": [],
   "source": [
    "# last: returns last non-null value of a column\n",
    "\n",
    "df2.select(F.last(\"imdb_rating\")).show()"
   ]
  },
  {
   "cell_type": "code",
   "execution_count": null,
   "id": "1d1d1e07-ebb9-4062-9a8e-70ea6da5683f",
   "metadata": {},
   "outputs": [],
   "source": [
    "# sumDistinct\n",
    "\n",
    "sum([10,20,30, 20, 10, 30, 30])"
   ]
  },
  {
   "cell_type": "code",
   "execution_count": null,
   "id": "14bd2553-552e-4bcd-b13d-a9137e73bd5a",
   "metadata": {},
   "outputs": [],
   "source": [
    "df2.select(F.sum(\"imdb_votes\")).show()\n"
   ]
  },
  {
   "cell_type": "code",
   "execution_count": null,
   "id": "5908c90c-e327-49f6-874d-7863631d64c3",
   "metadata": {},
   "outputs": [],
   "source": [
    "df2.select(F.sum_distinct(\"imdb_votes\")).show()\n",
    "\n",
    "\n",
    "# df2.select(F.sum(\"imdb_votes\")).show()"
   ]
  },
  {
   "cell_type": "code",
   "execution_count": null,
   "id": "ad08b838-59ca-45b4-8bbd-75b70bcdf16b",
   "metadata": {},
   "outputs": [],
   "source": [
    "#df2.select(F.collect_list(\"imdb_votes\")).show()\n",
    "\n",
    "\n",
    "df2.groupBy(\"genre\").agg(F.collect_set(\"imdb_votes\").alias('votes_list')).show(100, truncate=False)"
   ]
  },
  {
   "cell_type": "code",
   "execution_count": null,
   "id": "88d00d32-cd6b-4e55-8a5e-5d581b3f59a7",
   "metadata": {},
   "outputs": [],
   "source": [
    "# Expressions\n",
    "# 1. Increase  the rating by 1\n",
    "df2.withColumn(\"adjusted_rating\", (df2.imdb_rating + 1)) \\\n",
    "            .select(\"title\", \"imdb_rating\",\"adjusted_rating\").show(2)"
   ]
  },
  {
   "cell_type": "code",
   "execution_count": null,
   "id": "dc75c6b4-dbf0-44e8-93b5-0176dddc32e9",
   "metadata": {},
   "outputs": [],
   "source": [
    "# Expressions\n",
    "# 1. Increase  the rating by 1\n",
    "df2.withColumn(\"adjusted_rating\", (F.col(\"imdb_rating\") + 1)) \\\n",
    "            .select(\"title\", \"imdb_rating\",\"adjusted_rating\").show(2)"
   ]
  },
  {
   "cell_type": "code",
   "execution_count": null,
   "id": "a3b9d889-7122-447f-bcdb-256af3c620c5",
   "metadata": {},
   "outputs": [],
   "source": [
    "# 2. substring\n",
    "df2.select(\"title\", \"imdb_rating\",\"\").show(2)"
   ]
  },
  {
   "cell_type": "code",
   "execution_count": null,
   "id": "eac2d084-e714-4724-bf21-29c244507b71",
   "metadata": {},
   "outputs": [],
   "source": [
    "df2.withColumn(\"release_year\",\n",
    "               F.substring(\"released_at\",\n",
    "                           -4, 4)).select(\"title\",\n",
    "                                          \"imdb_rating\",\n",
    "                                          \"release_year\",\n",
    "                                          \"released_at\").show(2)"
   ]
  },
  {
   "cell_type": "code",
   "execution_count": null,
   "id": "a63826d9-b4f7-406c-b5d6-b655d455fee1",
   "metadata": {},
   "outputs": [],
   "source": [
    "df2.withColumn(\"release_year\",\n",
    "               F.split((\"released_at\"), \" \").getItem(2)).select(\"title\",\n",
    "                                          \"imdb_rating\",\n",
    "                                          \"release_year\",\n",
    "                                          \"released_at\").show(2)"
   ]
  },
  {
   "cell_type": "code",
   "execution_count": null,
   "id": "12273f4e-ef13-4477-ba57-9073a8eae13c",
   "metadata": {},
   "outputs": [],
   "source": [
    "df2.withColumn('rating_category', \n",
    "              F.when(F.col(\"imdb_rating\")>=8, \"Excellent\") \n",
    "               .when(F.col(\"imdb_rating\")>=6, \"Good\")\n",
    "               .otherwise(\"Average\") \\\n",
    "              ).select(\"title\",\n",
    "                       \"imdb_rating\",\n",
    "                       \"rating_category\",\n",
    "                       \"released_at\").show(2)"
   ]
  },
  {
   "cell_type": "code",
   "execution_count": null,
   "id": "a70f8938-a999-43c0-9769-2c1c1f6f529d",
   "metadata": {},
   "outputs": [],
   "source": [
    "# UDFs\n",
    "from pyspark.sql.types import StringType\n",
    "\n",
    "def add_prefix(title):\n",
    "    return \"Disney's \" + title\n",
    "\n",
    "add_prefix_udf = F.udf(add_prefix, StringType())\n",
    "\n",
    "df3 = df2.dropna()\n",
    "df3.withColumn(\"modified_title\",\n",
    "               add_prefix_udf(F.col(\"title\"))).select(\"title\",\n",
    "                        \"modified_title\",\n",
    "                       \"imdb_rating\",\n",
    "                       \"released_at\").show(2)"
   ]
  },
  {
   "cell_type": "code",
   "execution_count": null,
   "id": "ada5b0ac-a784-480b-b922-b8b119092a47",
   "metadata": {},
   "outputs": [],
   "source": []
  },
  {
   "cell_type": "code",
   "execution_count": null,
   "id": "e7a9ed22-08bd-4d19-9453-c98411c8e367",
   "metadata": {},
   "outputs": [],
   "source": []
  },
  {
   "cell_type": "code",
   "execution_count": null,
   "id": "8a52e061-26ee-4ae1-86f1-a687ed4c3fdb",
   "metadata": {},
   "outputs": [],
   "source": []
  },
  {
   "cell_type": "code",
   "execution_count": null,
   "id": "2c234f34-04e1-410a-8931-db0a5fdc53c4",
   "metadata": {},
   "outputs": [],
   "source": []
  },
  {
   "cell_type": "code",
   "execution_count": null,
   "id": "5f88d903-bd84-4204-a4ff-b983df121830",
   "metadata": {},
   "outputs": [],
   "source": []
  },
  {
   "cell_type": "code",
   "execution_count": null,
   "id": "9095a34c-f93d-4840-9d11-d5e13f53cf6c",
   "metadata": {},
   "outputs": [],
   "source": []
  },
  {
   "cell_type": "code",
   "execution_count": null,
   "id": "61f36c42-94f9-49ea-ab10-c44a349a81bc",
   "metadata": {},
   "outputs": [],
   "source": []
  },
  {
   "cell_type": "code",
   "execution_count": null,
   "id": "61c1ee80-fed2-412b-9869-203588b3aab8",
   "metadata": {},
   "outputs": [],
   "source": []
  },
  {
   "cell_type": "code",
   "execution_count": null,
   "id": "1252fabc-5dd7-4353-8e0e-3a15dd6d64b9",
   "metadata": {},
   "outputs": [],
   "source": []
  },
  {
   "cell_type": "code",
   "execution_count": null,
   "id": "65ecf596-f825-4f90-849c-5a3dceef001c",
   "metadata": {},
   "outputs": [],
   "source": []
  },
  {
   "cell_type": "code",
   "execution_count": null,
   "id": "3d0d1408-c70b-40f9-bf73-1ba3fa47d9c5",
   "metadata": {},
   "outputs": [],
   "source": []
  },
  {
   "cell_type": "code",
   "execution_count": null,
   "id": "f781e88c-a4ac-46c7-b0cb-9d7234ceb6a9",
   "metadata": {},
   "outputs": [],
   "source": []
  },
  {
   "cell_type": "code",
   "execution_count": null,
   "id": "006645bc-3b1c-4978-a5a5-f6e329137a09",
   "metadata": {},
   "outputs": [],
   "source": []
  },
  {
   "cell_type": "code",
   "execution_count": null,
   "id": "9acfb5c9-5f68-4dc6-9433-54a9b8d70fd2",
   "metadata": {},
   "outputs": [],
   "source": []
  },
  {
   "cell_type": "code",
   "execution_count": null,
   "id": "4ae2113b-0b0d-420e-b01f-b6ce12ae3b9f",
   "metadata": {},
   "outputs": [],
   "source": []
  },
  {
   "cell_type": "code",
   "execution_count": null,
   "id": "e3653339-a194-4a8a-bc06-ae2a4435f388",
   "metadata": {},
   "outputs": [],
   "source": []
  },
  {
   "cell_type": "code",
   "execution_count": null,
   "id": "5f63c158-1b84-4ca5-be7a-00d001c87a6b",
   "metadata": {},
   "outputs": [],
   "source": []
  },
  {
   "cell_type": "code",
   "execution_count": null,
   "id": "803b38e6-e784-4637-96ff-1bca3ef98b7a",
   "metadata": {},
   "outputs": [],
   "source": []
  },
  {
   "cell_type": "code",
   "execution_count": null,
   "id": "42103517-2bec-48d0-ba1c-4e0f2ee43f9b",
   "metadata": {},
   "outputs": [],
   "source": [
    "df = raw_data"
   ]
  },
  {
   "cell_type": "code",
   "execution_count": null,
   "id": "713b1ace-857d-4af2-83e8-cc8aef85d571",
   "metadata": {},
   "outputs": [],
   "source": [
    "df.columns"
   ]
  },
  {
   "cell_type": "code",
   "execution_count": null,
   "id": "2da4ef05-5841-47e5-b9e1-85bd6cd18f99",
   "metadata": {},
   "outputs": [],
   "source": [
    "df.select('title',\n",
    "          'plot',\n",
    "         'type',\n",
    "         'rated',\n",
    "         'year').show(10)"
   ]
  },
  {
   "cell_type": "code",
   "execution_count": null,
   "id": "86936c3d-b2c2-4f60-b11b-93ebcfa0d69c",
   "metadata": {},
   "outputs": [],
   "source": []
  },
  {
   "cell_type": "code",
   "execution_count": null,
   "id": "5e562702-84ec-4bf4-9a0f-9d35701ef7f9",
   "metadata": {},
   "outputs": [],
   "source": []
  },
  {
   "cell_type": "code",
   "execution_count": null,
   "id": "b2a672d9-d7d5-4187-8e9d-c69d4b890cc4",
   "metadata": {},
   "outputs": [],
   "source": []
  },
  {
   "cell_type": "code",
   "execution_count": null,
   "id": "ad191bea-7dec-4efb-886f-22a286405d0b",
   "metadata": {},
   "outputs": [],
   "source": []
  },
  {
   "cell_type": "code",
   "execution_count": null,
   "id": "e21db7c2-2834-45c3-a03e-36c1732bb4a9",
   "metadata": {},
   "outputs": [],
   "source": []
  },
  {
   "cell_type": "code",
   "execution_count": null,
   "id": "3bd390d7-a0f2-44ce-b778-07a0c515be2a",
   "metadata": {},
   "outputs": [],
   "source": []
  },
  {
   "cell_type": "code",
   "execution_count": null,
   "id": "af46fecb-eaac-4642-94d6-ee6bbcb0cb2c",
   "metadata": {},
   "outputs": [],
   "source": []
  },
  {
   "cell_type": "code",
   "execution_count": null,
   "id": "7075bf06-a1b6-4770-9151-0250a61553dd",
   "metadata": {},
   "outputs": [],
   "source": []
  },
  {
   "cell_type": "code",
   "execution_count": null,
   "id": "b248b2f9-65f1-4a39-ad23-ad251eb53a55",
   "metadata": {},
   "outputs": [],
   "source": []
  }
 ],
 "metadata": {
  "kernelspec": {
   "display_name": "Python 3 (ipykernel)",
   "language": "python",
   "name": "python3"
  },
  "language_info": {
   "codemirror_mode": {
    "name": "ipython",
    "version": 3
   },
   "file_extension": ".py",
   "mimetype": "text/x-python",
   "name": "python",
   "nbconvert_exporter": "python",
   "pygments_lexer": "ipython3",
   "version": "3.10.1"
  }
 },
 "nbformat": 4,
 "nbformat_minor": 5
}
